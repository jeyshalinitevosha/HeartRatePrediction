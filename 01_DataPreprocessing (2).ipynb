{
 "cells": [
  {
   "cell_type": "code",
   "execution_count": 2,
   "id": "afcaca6a",
   "metadata": {},
   "outputs": [
    {
     "name": "stdout",
     "output_type": "stream",
     "text": [
      "Requirement already satisfied: wfdb in /Users/jeyshalini.tevosha/opt/anaconda3/lib/python3.9/site-packages (4.1.0)\n",
      "Requirement already satisfied: SoundFile<0.12.0,>=0.10.0 in /Users/jeyshalini.tevosha/opt/anaconda3/lib/python3.9/site-packages (from wfdb) (0.11.0)\n",
      "Requirement already satisfied: numpy<2.0.0,>=1.10.1 in /Users/jeyshalini.tevosha/opt/anaconda3/lib/python3.9/site-packages (from wfdb) (1.21.5)\n",
      "Requirement already satisfied: pandas<2.0.0,>=1.0.0 in /Users/jeyshalini.tevosha/opt/anaconda3/lib/python3.9/site-packages (from wfdb) (1.4.4)\n",
      "Requirement already satisfied: scipy<2.0.0,>=1.0.0 in /Users/jeyshalini.tevosha/opt/anaconda3/lib/python3.9/site-packages (from wfdb) (1.9.1)\n",
      "Requirement already satisfied: matplotlib<4.0.0,>=3.2.2 in /Users/jeyshalini.tevosha/opt/anaconda3/lib/python3.9/site-packages (from wfdb) (3.5.2)\n",
      "Requirement already satisfied: requests<3.0.0,>=2.8.1 in /Users/jeyshalini.tevosha/opt/anaconda3/lib/python3.9/site-packages (from wfdb) (2.28.1)\n",
      "Requirement already satisfied: fonttools>=4.22.0 in /Users/jeyshalini.tevosha/opt/anaconda3/lib/python3.9/site-packages (from matplotlib<4.0.0,>=3.2.2->wfdb) (4.25.0)\n",
      "Requirement already satisfied: pillow>=6.2.0 in /Users/jeyshalini.tevosha/opt/anaconda3/lib/python3.9/site-packages (from matplotlib<4.0.0,>=3.2.2->wfdb) (9.2.0)\n",
      "Requirement already satisfied: cycler>=0.10 in /Users/jeyshalini.tevosha/opt/anaconda3/lib/python3.9/site-packages (from matplotlib<4.0.0,>=3.2.2->wfdb) (0.11.0)\n",
      "Requirement already satisfied: kiwisolver>=1.0.1 in /Users/jeyshalini.tevosha/opt/anaconda3/lib/python3.9/site-packages (from matplotlib<4.0.0,>=3.2.2->wfdb) (1.4.2)\n",
      "Requirement already satisfied: python-dateutil>=2.7 in /Users/jeyshalini.tevosha/opt/anaconda3/lib/python3.9/site-packages (from matplotlib<4.0.0,>=3.2.2->wfdb) (2.8.2)\n",
      "Requirement already satisfied: pyparsing>=2.2.1 in /Users/jeyshalini.tevosha/opt/anaconda3/lib/python3.9/site-packages (from matplotlib<4.0.0,>=3.2.2->wfdb) (3.0.9)\n",
      "Requirement already satisfied: packaging>=20.0 in /Users/jeyshalini.tevosha/opt/anaconda3/lib/python3.9/site-packages (from matplotlib<4.0.0,>=3.2.2->wfdb) (21.3)\n",
      "Requirement already satisfied: pytz>=2020.1 in /Users/jeyshalini.tevosha/opt/anaconda3/lib/python3.9/site-packages (from pandas<2.0.0,>=1.0.0->wfdb) (2022.1)\n",
      "Requirement already satisfied: charset-normalizer<3,>=2 in /Users/jeyshalini.tevosha/opt/anaconda3/lib/python3.9/site-packages (from requests<3.0.0,>=2.8.1->wfdb) (2.0.4)\n",
      "Requirement already satisfied: certifi>=2017.4.17 in /Users/jeyshalini.tevosha/opt/anaconda3/lib/python3.9/site-packages (from requests<3.0.0,>=2.8.1->wfdb) (2022.9.24)\n",
      "Requirement already satisfied: urllib3<1.27,>=1.21.1 in /Users/jeyshalini.tevosha/opt/anaconda3/lib/python3.9/site-packages (from requests<3.0.0,>=2.8.1->wfdb) (1.26.11)\n",
      "Requirement already satisfied: idna<4,>=2.5 in /Users/jeyshalini.tevosha/opt/anaconda3/lib/python3.9/site-packages (from requests<3.0.0,>=2.8.1->wfdb) (3.3)\n",
      "Requirement already satisfied: cffi>=1.0 in /Users/jeyshalini.tevosha/opt/anaconda3/lib/python3.9/site-packages (from SoundFile<0.12.0,>=0.10.0->wfdb) (1.15.1)\n",
      "Requirement already satisfied: pycparser in /Users/jeyshalini.tevosha/opt/anaconda3/lib/python3.9/site-packages (from cffi>=1.0->SoundFile<0.12.0,>=0.10.0->wfdb) (2.21)\n",
      "Requirement already satisfied: six>=1.5 in /Users/jeyshalini.tevosha/opt/anaconda3/lib/python3.9/site-packages (from python-dateutil>=2.7->matplotlib<4.0.0,>=3.2.2->wfdb) (1.16.0)\n",
      "Note: you may need to restart the kernel to use updated packages.\n"
     ]
    }
   ],
   "source": [
    "pip install wfdb"
   ]
  },
  {
   "cell_type": "code",
   "execution_count": 2,
   "id": "78124917",
   "metadata": {},
   "outputs": [],
   "source": [
    "import wfdb\n",
    "import pywt\n",
    "import seaborn\n",
    "from tqdm import tqdm\n",
    "import numpy as np\n",
    "import matplotlib.pyplot as plt\n",
    "from wfdb import processing\n",
    "import pandas as pd\n",
    "from sklearn.model_selection import train_test_split"
   ]
  },
  {
   "cell_type": "code",
   "execution_count": 2,
   "id": "0878ec4b",
   "metadata": {},
   "outputs": [],
   "source": [
    "record_ecg = wfdb.rdrecord('data/infant9_ecg')\n",
    "record_resp = wfdb.rdrecord('data/infant9_resp')\n",
    "\n",
    "r_peaks = wfdb.io.rdann('data/infant9_ecg', 'qrsc')\n",
    "resp_peaks = wfdb.io.rdann('data/infant9_resp', 'resp')"
   ]
  },
  {
   "cell_type": "code",
   "execution_count": 3,
   "id": "24b8a029",
   "metadata": {},
   "outputs": [],
   "source": [
    "def compute_hr(sig_len, qrs_inds, fs):\n",
    "   \n",
    "    heart_rate = np.full(sig_len, np.nan, dtype=\"float32\")\n",
    "\n",
    "    if len(qrs_inds) < 2:\n",
    "        return heart_rate\n",
    "\n",
    "    for i in range(0, len(qrs_inds) - 2):\n",
    "        a = qrs_inds[i]\n",
    "        b = qrs_inds[i + 1]\n",
    "        c = qrs_inds[i + 2]\n",
    "        rr = (b - a) * (1.0 / fs) * 1000\n",
    "        hr = 60000.0 / rr\n",
    "        heart_rate[b + 1 : c + 1] = hr\n",
    "\n",
    "    heart_rate[qrs_inds[-1] :] = heart_rate[qrs_inds[-1]]\n",
    "\n",
    "    return heart_rate"
   ]
  },
  {
   "cell_type": "code",
   "execution_count": 5,
   "id": "3c5f5588",
   "metadata": {},
   "outputs": [],
   "source": [
    "heart_rate = processing.compute_hr(len(record_ecg.p_signal),r_peaks.sample,record_ecg.fs)\n",
    "breathing_rate = processing.compute_hr(len(record_resp.p_signal),resp_peaks.sample,record_resp.fs)"
   ]
  },
  {
   "cell_type": "code",
   "execution_count": 7,
   "id": "1d028349",
   "metadata": {},
   "outputs": [
    {
     "name": "stdout",
     "output_type": "stream",
     "text": [
      "ECG sampling frequency:  500  Hz\n",
      "ECG sampling interval every  0.002  sec.\n",
      "RESP sampling frequency:  50  Hz\n",
      "RESP sampling interval every  0.02  sec.\n"
     ]
    }
   ],
   "source": [
    "# get the sampling interval \n",
    "\n",
    "ecg_samp_interval = 1/record_ecg.fs\n",
    "resp_samp_interval = 1/record_resp.fs\n",
    "print(\"ECG sampling frequency: \", record_ecg.fs, \" Hz\")\n",
    "print(\"ECG sampling interval every \", ecg_samp_interval, \" sec.\")\n",
    "print(\"RESP sampling frequency: \", record_resp.fs, \" Hz\")\n",
    "print(\"RESP sampling interval every \", resp_samp_interval, \" sec.\")"
   ]
  },
  {
   "cell_type": "code",
   "execution_count": 8,
   "id": "29296b9b",
   "metadata": {},
   "outputs": [],
   "source": [
    "time_ecg = np.arange(record_ecg.p_signal.shape[0])*ecg_samp_interval # ECG time axis\n",
    "time_resp = np.arange(record_resp.p_signal.shape[0])*resp_samp_interval # RESP time axis"
   ]
  },
  {
   "cell_type": "code",
   "execution_count": 9,
   "id": "0d4d8ad7",
   "metadata": {},
   "outputs": [],
   "source": [
    "heart_data = {\n",
    "    'Infant':'9',\n",
    "    'Heart Rate': heart_rate,\n",
    "    'Time (sec)': time_ecg,\n",
    "        }\n",
    "resp_data  = {\n",
    "     'Infant':'9',\n",
    "    'Respiratory Rate':breathing_rate,\n",
    "       'Time (sec)':time_resp,}\n",
    "\n",
    "heart_df = pd.DataFrame.from_dict(heart_data) \n",
    "resp_df = pd.DataFrame.from_dict(resp_data) "
   ]
  },
  {
   "cell_type": "code",
   "execution_count": 10,
   "id": "ee61e127",
   "metadata": {},
   "outputs": [
    {
     "name": "stdout",
     "output_type": "stream",
     "text": [
      "Heart DF\n"
     ]
    },
    {
     "data": {
      "text/html": [
       "<div>\n",
       "<style scoped>\n",
       "    .dataframe tbody tr th:only-of-type {\n",
       "        vertical-align: middle;\n",
       "    }\n",
       "\n",
       "    .dataframe tbody tr th {\n",
       "        vertical-align: top;\n",
       "    }\n",
       "\n",
       "    .dataframe thead th {\n",
       "        text-align: right;\n",
       "    }\n",
       "</style>\n",
       "<table border=\"1\" class=\"dataframe\">\n",
       "  <thead>\n",
       "    <tr style=\"text-align: right;\">\n",
       "      <th></th>\n",
       "      <th>Infant</th>\n",
       "      <th>Heart Rate</th>\n",
       "      <th>Time (sec)</th>\n",
       "    </tr>\n",
       "  </thead>\n",
       "  <tbody>\n",
       "    <tr>\n",
       "      <th>0</th>\n",
       "      <td>9</td>\n",
       "      <td>NaN</td>\n",
       "      <td>0.000</td>\n",
       "    </tr>\n",
       "    <tr>\n",
       "      <th>1</th>\n",
       "      <td>9</td>\n",
       "      <td>NaN</td>\n",
       "      <td>0.002</td>\n",
       "    </tr>\n",
       "    <tr>\n",
       "      <th>2</th>\n",
       "      <td>9</td>\n",
       "      <td>NaN</td>\n",
       "      <td>0.004</td>\n",
       "    </tr>\n",
       "    <tr>\n",
       "      <th>3</th>\n",
       "      <td>9</td>\n",
       "      <td>NaN</td>\n",
       "      <td>0.006</td>\n",
       "    </tr>\n",
       "    <tr>\n",
       "      <th>4</th>\n",
       "      <td>9</td>\n",
       "      <td>NaN</td>\n",
       "      <td>0.008</td>\n",
       "    </tr>\n",
       "    <tr>\n",
       "      <th>...</th>\n",
       "      <td>...</td>\n",
       "      <td>...</td>\n",
       "      <td>...</td>\n",
       "    </tr>\n",
       "    <tr>\n",
       "      <th>126569083</th>\n",
       "      <td>9</td>\n",
       "      <td>150.0</td>\n",
       "      <td>253138.166</td>\n",
       "    </tr>\n",
       "    <tr>\n",
       "      <th>126569084</th>\n",
       "      <td>9</td>\n",
       "      <td>150.0</td>\n",
       "      <td>253138.168</td>\n",
       "    </tr>\n",
       "    <tr>\n",
       "      <th>126569085</th>\n",
       "      <td>9</td>\n",
       "      <td>150.0</td>\n",
       "      <td>253138.170</td>\n",
       "    </tr>\n",
       "    <tr>\n",
       "      <th>126569086</th>\n",
       "      <td>9</td>\n",
       "      <td>150.0</td>\n",
       "      <td>253138.172</td>\n",
       "    </tr>\n",
       "    <tr>\n",
       "      <th>126569087</th>\n",
       "      <td>9</td>\n",
       "      <td>150.0</td>\n",
       "      <td>253138.174</td>\n",
       "    </tr>\n",
       "  </tbody>\n",
       "</table>\n",
       "<p>126569088 rows × 3 columns</p>\n",
       "</div>"
      ],
      "text/plain": [
       "          Infant  Heart Rate  Time (sec)\n",
       "0              9         NaN       0.000\n",
       "1              9         NaN       0.002\n",
       "2              9         NaN       0.004\n",
       "3              9         NaN       0.006\n",
       "4              9         NaN       0.008\n",
       "...          ...         ...         ...\n",
       "126569083      9       150.0  253138.166\n",
       "126569084      9       150.0  253138.168\n",
       "126569085      9       150.0  253138.170\n",
       "126569086      9       150.0  253138.172\n",
       "126569087      9       150.0  253138.174\n",
       "\n",
       "[126569088 rows x 3 columns]"
      ]
     },
     "execution_count": 10,
     "metadata": {},
     "output_type": "execute_result"
    }
   ],
   "source": [
    "print(\"Heart DF\")\n",
    "heart_df"
   ]
  },
  {
   "cell_type": "code",
   "execution_count": 11,
   "id": "0528d728",
   "metadata": {},
   "outputs": [
    {
     "name": "stdout",
     "output_type": "stream",
     "text": [
      "Resp DF\n"
     ]
    },
    {
     "data": {
      "text/html": [
       "<div>\n",
       "<style scoped>\n",
       "    .dataframe tbody tr th:only-of-type {\n",
       "        vertical-align: middle;\n",
       "    }\n",
       "\n",
       "    .dataframe tbody tr th {\n",
       "        vertical-align: top;\n",
       "    }\n",
       "\n",
       "    .dataframe thead th {\n",
       "        text-align: right;\n",
       "    }\n",
       "</style>\n",
       "<table border=\"1\" class=\"dataframe\">\n",
       "  <thead>\n",
       "    <tr style=\"text-align: right;\">\n",
       "      <th></th>\n",
       "      <th>Infant</th>\n",
       "      <th>Respiratory Rate</th>\n",
       "      <th>Time (sec)</th>\n",
       "    </tr>\n",
       "  </thead>\n",
       "  <tbody>\n",
       "    <tr>\n",
       "      <th>0</th>\n",
       "      <td>9</td>\n",
       "      <td>NaN</td>\n",
       "      <td>0.00</td>\n",
       "    </tr>\n",
       "    <tr>\n",
       "      <th>1</th>\n",
       "      <td>9</td>\n",
       "      <td>NaN</td>\n",
       "      <td>0.02</td>\n",
       "    </tr>\n",
       "    <tr>\n",
       "      <th>2</th>\n",
       "      <td>9</td>\n",
       "      <td>NaN</td>\n",
       "      <td>0.04</td>\n",
       "    </tr>\n",
       "    <tr>\n",
       "      <th>3</th>\n",
       "      <td>9</td>\n",
       "      <td>NaN</td>\n",
       "      <td>0.06</td>\n",
       "    </tr>\n",
       "    <tr>\n",
       "      <th>4</th>\n",
       "      <td>9</td>\n",
       "      <td>NaN</td>\n",
       "      <td>0.08</td>\n",
       "    </tr>\n",
       "    <tr>\n",
       "      <th>...</th>\n",
       "      <td>...</td>\n",
       "      <td>...</td>\n",
       "      <td>...</td>\n",
       "    </tr>\n",
       "    <tr>\n",
       "      <th>12656779</th>\n",
       "      <td>9</td>\n",
       "      <td>75.0</td>\n",
       "      <td>253135.58</td>\n",
       "    </tr>\n",
       "    <tr>\n",
       "      <th>12656780</th>\n",
       "      <td>9</td>\n",
       "      <td>75.0</td>\n",
       "      <td>253135.60</td>\n",
       "    </tr>\n",
       "    <tr>\n",
       "      <th>12656781</th>\n",
       "      <td>9</td>\n",
       "      <td>75.0</td>\n",
       "      <td>253135.62</td>\n",
       "    </tr>\n",
       "    <tr>\n",
       "      <th>12656782</th>\n",
       "      <td>9</td>\n",
       "      <td>75.0</td>\n",
       "      <td>253135.64</td>\n",
       "    </tr>\n",
       "    <tr>\n",
       "      <th>12656783</th>\n",
       "      <td>9</td>\n",
       "      <td>75.0</td>\n",
       "      <td>253135.66</td>\n",
       "    </tr>\n",
       "  </tbody>\n",
       "</table>\n",
       "<p>12656784 rows × 3 columns</p>\n",
       "</div>"
      ],
      "text/plain": [
       "         Infant  Respiratory Rate  Time (sec)\n",
       "0             9               NaN        0.00\n",
       "1             9               NaN        0.02\n",
       "2             9               NaN        0.04\n",
       "3             9               NaN        0.06\n",
       "4             9               NaN        0.08\n",
       "...         ...               ...         ...\n",
       "12656779      9              75.0   253135.58\n",
       "12656780      9              75.0   253135.60\n",
       "12656781      9              75.0   253135.62\n",
       "12656782      9              75.0   253135.64\n",
       "12656783      9              75.0   253135.66\n",
       "\n",
       "[12656784 rows x 3 columns]"
      ]
     },
     "execution_count": 11,
     "metadata": {},
     "output_type": "execute_result"
    }
   ],
   "source": [
    "print (\"Resp DF\")\n",
    "resp_df"
   ]
  },
  {
   "cell_type": "code",
   "execution_count": 12,
   "id": "4eb32f74",
   "metadata": {},
   "outputs": [],
   "source": [
    "heart_df = heart_df.dropna()\n",
    "heart_df = heart_df.dropna().reset_index(drop = True)\n",
    "\n",
    "resp_df = resp_df.dropna()\n",
    "resp_df = resp_df.dropna().reset_index(drop = True)"
   ]
  },
  {
   "cell_type": "code",
   "execution_count": 13,
   "id": "74347312",
   "metadata": {},
   "outputs": [
    {
     "name": "stdout",
     "output_type": "stream",
     "text": [
      "Heart DF\n"
     ]
    },
    {
     "data": {
      "text/html": [
       "<div>\n",
       "<style scoped>\n",
       "    .dataframe tbody tr th:only-of-type {\n",
       "        vertical-align: middle;\n",
       "    }\n",
       "\n",
       "    .dataframe tbody tr th {\n",
       "        vertical-align: top;\n",
       "    }\n",
       "\n",
       "    .dataframe thead th {\n",
       "        text-align: right;\n",
       "    }\n",
       "</style>\n",
       "<table border=\"1\" class=\"dataframe\">\n",
       "  <thead>\n",
       "    <tr style=\"text-align: right;\">\n",
       "      <th></th>\n",
       "      <th>Infant</th>\n",
       "      <th>Heart Rate</th>\n",
       "      <th>Time (sec)</th>\n",
       "    </tr>\n",
       "  </thead>\n",
       "  <tbody>\n",
       "    <tr>\n",
       "      <th>0</th>\n",
       "      <td>9</td>\n",
       "      <td>142.857147</td>\n",
       "      <td>0.820</td>\n",
       "    </tr>\n",
       "    <tr>\n",
       "      <th>1</th>\n",
       "      <td>9</td>\n",
       "      <td>142.857147</td>\n",
       "      <td>0.822</td>\n",
       "    </tr>\n",
       "    <tr>\n",
       "      <th>2</th>\n",
       "      <td>9</td>\n",
       "      <td>142.857147</td>\n",
       "      <td>0.824</td>\n",
       "    </tr>\n",
       "    <tr>\n",
       "      <th>3</th>\n",
       "      <td>9</td>\n",
       "      <td>142.857147</td>\n",
       "      <td>0.826</td>\n",
       "    </tr>\n",
       "    <tr>\n",
       "      <th>4</th>\n",
       "      <td>9</td>\n",
       "      <td>142.857147</td>\n",
       "      <td>0.828</td>\n",
       "    </tr>\n",
       "    <tr>\n",
       "      <th>...</th>\n",
       "      <td>...</td>\n",
       "      <td>...</td>\n",
       "      <td>...</td>\n",
       "    </tr>\n",
       "    <tr>\n",
       "      <th>126568673</th>\n",
       "      <td>9</td>\n",
       "      <td>150.000000</td>\n",
       "      <td>253138.166</td>\n",
       "    </tr>\n",
       "    <tr>\n",
       "      <th>126568674</th>\n",
       "      <td>9</td>\n",
       "      <td>150.000000</td>\n",
       "      <td>253138.168</td>\n",
       "    </tr>\n",
       "    <tr>\n",
       "      <th>126568675</th>\n",
       "      <td>9</td>\n",
       "      <td>150.000000</td>\n",
       "      <td>253138.170</td>\n",
       "    </tr>\n",
       "    <tr>\n",
       "      <th>126568676</th>\n",
       "      <td>9</td>\n",
       "      <td>150.000000</td>\n",
       "      <td>253138.172</td>\n",
       "    </tr>\n",
       "    <tr>\n",
       "      <th>126568677</th>\n",
       "      <td>9</td>\n",
       "      <td>150.000000</td>\n",
       "      <td>253138.174</td>\n",
       "    </tr>\n",
       "  </tbody>\n",
       "</table>\n",
       "<p>126568678 rows × 3 columns</p>\n",
       "</div>"
      ],
      "text/plain": [
       "          Infant  Heart Rate  Time (sec)\n",
       "0              9  142.857147       0.820\n",
       "1              9  142.857147       0.822\n",
       "2              9  142.857147       0.824\n",
       "3              9  142.857147       0.826\n",
       "4              9  142.857147       0.828\n",
       "...          ...         ...         ...\n",
       "126568673      9  150.000000  253138.166\n",
       "126568674      9  150.000000  253138.168\n",
       "126568675      9  150.000000  253138.170\n",
       "126568676      9  150.000000  253138.172\n",
       "126568677      9  150.000000  253138.174\n",
       "\n",
       "[126568678 rows x 3 columns]"
      ]
     },
     "execution_count": 13,
     "metadata": {},
     "output_type": "execute_result"
    }
   ],
   "source": [
    "print(\"Heart DF\")\n",
    "heart_df"
   ]
  },
  {
   "cell_type": "code",
   "execution_count": 14,
   "id": "522ae378",
   "metadata": {
    "scrolled": true
   },
   "outputs": [
    {
     "name": "stdout",
     "output_type": "stream",
     "text": [
      "Resp DF\n"
     ]
    },
    {
     "data": {
      "text/html": [
       "<div>\n",
       "<style scoped>\n",
       "    .dataframe tbody tr th:only-of-type {\n",
       "        vertical-align: middle;\n",
       "    }\n",
       "\n",
       "    .dataframe tbody tr th {\n",
       "        vertical-align: top;\n",
       "    }\n",
       "\n",
       "    .dataframe thead th {\n",
       "        text-align: right;\n",
       "    }\n",
       "</style>\n",
       "<table border=\"1\" class=\"dataframe\">\n",
       "  <thead>\n",
       "    <tr style=\"text-align: right;\">\n",
       "      <th></th>\n",
       "      <th>Infant</th>\n",
       "      <th>Respiratory Rate</th>\n",
       "      <th>Time (sec)</th>\n",
       "    </tr>\n",
       "  </thead>\n",
       "  <tbody>\n",
       "    <tr>\n",
       "      <th>0</th>\n",
       "      <td>9</td>\n",
       "      <td>60.0</td>\n",
       "      <td>592.66</td>\n",
       "    </tr>\n",
       "    <tr>\n",
       "      <th>1</th>\n",
       "      <td>9</td>\n",
       "      <td>60.0</td>\n",
       "      <td>592.68</td>\n",
       "    </tr>\n",
       "    <tr>\n",
       "      <th>2</th>\n",
       "      <td>9</td>\n",
       "      <td>60.0</td>\n",
       "      <td>592.70</td>\n",
       "    </tr>\n",
       "    <tr>\n",
       "      <th>3</th>\n",
       "      <td>9</td>\n",
       "      <td>60.0</td>\n",
       "      <td>592.72</td>\n",
       "    </tr>\n",
       "    <tr>\n",
       "      <th>4</th>\n",
       "      <td>9</td>\n",
       "      <td>60.0</td>\n",
       "      <td>592.74</td>\n",
       "    </tr>\n",
       "    <tr>\n",
       "      <th>...</th>\n",
       "      <td>...</td>\n",
       "      <td>...</td>\n",
       "      <td>...</td>\n",
       "    </tr>\n",
       "    <tr>\n",
       "      <th>12627146</th>\n",
       "      <td>9</td>\n",
       "      <td>75.0</td>\n",
       "      <td>253135.58</td>\n",
       "    </tr>\n",
       "    <tr>\n",
       "      <th>12627147</th>\n",
       "      <td>9</td>\n",
       "      <td>75.0</td>\n",
       "      <td>253135.60</td>\n",
       "    </tr>\n",
       "    <tr>\n",
       "      <th>12627148</th>\n",
       "      <td>9</td>\n",
       "      <td>75.0</td>\n",
       "      <td>253135.62</td>\n",
       "    </tr>\n",
       "    <tr>\n",
       "      <th>12627149</th>\n",
       "      <td>9</td>\n",
       "      <td>75.0</td>\n",
       "      <td>253135.64</td>\n",
       "    </tr>\n",
       "    <tr>\n",
       "      <th>12627150</th>\n",
       "      <td>9</td>\n",
       "      <td>75.0</td>\n",
       "      <td>253135.66</td>\n",
       "    </tr>\n",
       "  </tbody>\n",
       "</table>\n",
       "<p>12627151 rows × 3 columns</p>\n",
       "</div>"
      ],
      "text/plain": [
       "         Infant  Respiratory Rate  Time (sec)\n",
       "0             9              60.0      592.66\n",
       "1             9              60.0      592.68\n",
       "2             9              60.0      592.70\n",
       "3             9              60.0      592.72\n",
       "4             9              60.0      592.74\n",
       "...         ...               ...         ...\n",
       "12627146      9              75.0   253135.58\n",
       "12627147      9              75.0   253135.60\n",
       "12627148      9              75.0   253135.62\n",
       "12627149      9              75.0   253135.64\n",
       "12627150      9              75.0   253135.66\n",
       "\n",
       "[12627151 rows x 3 columns]"
      ]
     },
     "execution_count": 14,
     "metadata": {},
     "output_type": "execute_result"
    }
   ],
   "source": [
    "print (\"Resp DF\")\n",
    "resp_df"
   ]
  },
  {
   "cell_type": "raw",
   "id": "add0f7a4",
   "metadata": {
    "scrolled": true
   },
   "source": [
    "resp_df.info()"
   ]
  },
  {
   "cell_type": "code",
   "execution_count": 26,
   "id": "f16a2b67",
   "metadata": {},
   "outputs": [],
   "source": [
    "heart_df_subset = heart_df.head(1000).sort_values(by='Time (sec)')\n",
    "resp_df_subset = resp_df.head(1000).sort_values(by='Time (sec)')\n",
    "combined_data = pd.merge(heart_df_subset, resp_df_subset, how = 'inner', on = ['Time (sec)', 'Infant'])"
   ]
  },
  {
   "cell_type": "code",
   "execution_count": 27,
   "id": "f99924a3",
   "metadata": {
    "scrolled": true
   },
   "outputs": [
    {
     "data": {
      "text/html": [
       "<div>\n",
       "<style scoped>\n",
       "    .dataframe tbody tr th:only-of-type {\n",
       "        vertical-align: middle;\n",
       "    }\n",
       "\n",
       "    .dataframe tbody tr th {\n",
       "        vertical-align: top;\n",
       "    }\n",
       "\n",
       "    .dataframe thead th {\n",
       "        text-align: right;\n",
       "    }\n",
       "</style>\n",
       "<table border=\"1\" class=\"dataframe\">\n",
       "  <thead>\n",
       "    <tr style=\"text-align: right;\">\n",
       "      <th></th>\n",
       "      <th>Infant</th>\n",
       "      <th>Heart Rate</th>\n",
       "      <th>Time (sec)</th>\n",
       "      <th>Respiratory Rate</th>\n",
       "    </tr>\n",
       "  </thead>\n",
       "  <tbody>\n",
       "  </tbody>\n",
       "</table>\n",
       "</div>"
      ],
      "text/plain": [
       "Empty DataFrame\n",
       "Columns: [Infant, Heart Rate, Time (sec), Respiratory Rate]\n",
       "Index: []"
      ]
     },
     "execution_count": 27,
     "metadata": {},
     "output_type": "execute_result"
    }
   ],
   "source": [
    "combined_data.head()"
   ]
  },
  {
   "cell_type": "markdown",
   "id": "7edda6f8",
   "metadata": {},
   "source": [
    "### The independent variable 'Heart Rate' is stored in the 'X' variable and the dependent variable 'Respiratory Rate' is stored in the 'y' variable. The LinearRegression() model is then created, fitted to the data, and the coefficients are printed. The model's predictions for the 'Heart Rate' values are stored in the 'y_pred' variable and plotted against the actual 'Respiratory Rate' values. And finally, it plots a scatter plot of the data, with the line of best fit of the linear model, which shows the relationship between the two variables."
   ]
  },
  {
   "cell_type": "code",
   "execution_count": 3,
   "id": "8fa105e8",
   "metadata": {
    "scrolled": true
   },
   "outputs": [
    {
     "name": "stderr",
     "output_type": "stream",
     "text": [
      "\r",
      "0/10 [00:00<?]"
     ]
    },
    {
     "name": "stdout",
     "output_type": "stream",
     "text": [
      "1\n",
      "ECG sampling frequency:  250  Hz\n",
      "ECG sampling interval every  0.004  sec.\n",
      "RESP sampling frequency:  500  Hz\n",
      "RESP sampling interval every =  0.002  sec.\n",
      "\n",
      "\n"
     ]
    },
    {
     "name": "stderr",
     "output_type": "stream",
     "text": [
      "\r",
      "1/10 [07:13<1:05:01]"
     ]
    },
    {
     "name": "stdout",
     "output_type": "stream",
     "text": [
      "2\n",
      "ECG sampling frequency:  500  Hz\n",
      "ECG sampling interval every  0.002  sec.\n",
      "RESP sampling frequency:  50  Hz\n",
      "RESP sampling interval every =  0.02  sec.\n",
      "\n",
      "\n"
     ]
    },
    {
     "name": "stderr",
     "output_type": "stream",
     "text": [
      "\r",
      "2/10 [09:06<32:38]  "
     ]
    },
    {
     "name": "stdout",
     "output_type": "stream",
     "text": [
      "3\n",
      "ECG sampling frequency:  500  Hz\n",
      "ECG sampling interval every  0.002  sec.\n",
      "RESP sampling frequency:  50  Hz\n",
      "RESP sampling interval every =  0.02  sec.\n",
      "\n",
      "\n"
     ]
    },
    {
     "name": "stderr",
     "output_type": "stream",
     "text": [
      "\r",
      "3/10 [10:57<21:26]"
     ]
    },
    {
     "name": "stdout",
     "output_type": "stream",
     "text": [
      "4\n",
      "ECG sampling frequency:  500  Hz\n",
      "ECG sampling interval every  0.002  sec.\n",
      "RESP sampling frequency:  50  Hz\n",
      "RESP sampling interval every =  0.02  sec.\n",
      "\n",
      "\n"
     ]
    },
    {
     "name": "stderr",
     "output_type": "stream",
     "text": [
      "\r",
      "4/10 [12:59<15:56]"
     ]
    },
    {
     "name": "stdout",
     "output_type": "stream",
     "text": [
      "5\n",
      "ECG sampling frequency:  250  Hz\n",
      "ECG sampling interval every  0.004  sec.\n",
      "RESP sampling frequency:  50  Hz\n",
      "RESP sampling interval every =  0.02  sec.\n",
      "\n",
      "\n"
     ]
    },
    {
     "name": "stderr",
     "output_type": "stream",
     "text": [
      "\r",
      "5/10 [14:07<10:32]"
     ]
    },
    {
     "name": "stdout",
     "output_type": "stream",
     "text": [
      "6\n",
      "ECG sampling frequency:  500  Hz\n",
      "ECG sampling interval every  0.002  sec.\n",
      "RESP sampling frequency:  50  Hz\n",
      "RESP sampling interval every =  0.02  sec.\n",
      "\n",
      "\n"
     ]
    },
    {
     "name": "stderr",
     "output_type": "stream",
     "text": [
      "\r",
      "6/10 [16:16<08:28]"
     ]
    },
    {
     "name": "stdout",
     "output_type": "stream",
     "text": [
      "7\n",
      "ECG sampling frequency:  500  Hz\n",
      "ECG sampling interval every  0.002  sec.\n",
      "RESP sampling frequency:  50  Hz\n",
      "RESP sampling interval every =  0.02  sec.\n",
      "\n",
      "\n"
     ]
    },
    {
     "name": "stderr",
     "output_type": "stream",
     "text": [
      "\r",
      "7/10 [17:01<05:01]"
     ]
    },
    {
     "name": "stdout",
     "output_type": "stream",
     "text": [
      "8\n",
      "ECG sampling frequency:  500  Hz\n",
      "ECG sampling interval every  0.002  sec.\n",
      "RESP sampling frequency:  50  Hz\n",
      "RESP sampling interval every =  0.02  sec.\n",
      "\n",
      "\n"
     ]
    },
    {
     "name": "stderr",
     "output_type": "stream",
     "text": [
      "\r",
      "8/10 [17:55<02:50]"
     ]
    },
    {
     "name": "stdout",
     "output_type": "stream",
     "text": [
      "9\n",
      "ECG sampling frequency:  500  Hz\n",
      "ECG sampling interval every  0.002  sec.\n",
      "RESP sampling frequency:  50  Hz\n",
      "RESP sampling interval every =  0.02  sec.\n",
      "\n",
      "\n"
     ]
    },
    {
     "name": "stderr",
     "output_type": "stream",
     "text": [
      "\r",
      "9/10 [51:43<11:32]"
     ]
    },
    {
     "name": "stdout",
     "output_type": "stream",
     "text": [
      "10\n",
      "ECG sampling frequency:  500  Hz\n",
      "ECG sampling interval every  0.002  sec.\n",
      "RESP sampling frequency:  50  Hz\n",
      "RESP sampling interval every =  0.02  sec.\n",
      "\n",
      "\n"
     ]
    },
    {
     "name": "stderr",
     "output_type": "stream",
     "text": [
      "10/10 [53:35<00:00]\n"
     ]
    }
   ],
   "source": [
    "for i in tqdm(range(1, 11), bar_format='{n_fmt}/{total_fmt} [{elapsed}<{remaining}]'):\n",
    "   \n",
    "    record_ecg= wfdb.rdrecord('data/infant{}_ecg'.format(i))\n",
    "    record_resp=wfdb.rdrecord('data/infant{}_resp'.format(i))\n",
    "    ecg_signal = record_ecg.p_signal\n",
    "    \n",
    "    r_peaks= wfdb.rdann('data/infant{}_ecg'.format(i),'qrsc')\n",
    "    resp_peaks=wfdb.rdann('data/infant{}_resp'.format(i),'resp')\n",
    "\n",
    "    heart_rate = processing.compute_hr(len(record_ecg.p_signal),r_peaks.sample,record_ecg.fs)\n",
    "    breathing_rate = processing.compute_hr(len(record_resp.p_signal),resp_peaks.sample,record_resp.fs)\n",
    "    \n",
    "    # Print out sampling interval\n",
    "    ecg_samp_interval = 1/record_ecg.fs\n",
    "    resp_samp_interval = 1/record_resp.fs\n",
    "    print(i)\n",
    "    print(\"ECG sampling frequency: \", record_ecg.fs, \" Hz\")\n",
    "    print(\"ECG sampling interval every \", ecg_samp_interval, \" sec.\")\n",
    "    print(\"RESP sampling frequency: \", record_resp.fs, \" Hz\")\n",
    "    print(\"RESP sampling interval every = \", resp_samp_interval, \" sec.\")\n",
    "    print(\"\\n\")\n",
    "    \n",
    "    # Sorting the time axis  \n",
    "    time_ecg = np.arange(record_ecg.p_signal.shape[0])*ecg_samp_interval \n",
    "    time_resp = np.arange(record_resp.p_signal.shape[0])*resp_samp_interval \n",
    "    \n",
    "\n",
    "    ecg_data = {\n",
    "    'Infant':i,\n",
    "    'Heart Rate': heart_rate,\n",
    "    'Time (sec)': time_ecg,\n",
    "        }\n",
    "    \n",
    "    resp_data  = {\n",
    "     'Infant':i,\n",
    "    'Respiratory Rate':breathing_rate,\n",
    "       'Time (sec)':time_resp,}\n",
    " \n",
    "    ecg_df = pd.DataFrame.from_dict(ecg_data) \n",
    "    resp_df = pd.DataFrame.from_dict(resp_data) \n",
    "    \n",
    "    # Remove unwanted rows \n",
    "    ecg_df = ecg_df.dropna().reset_index(drop=True)\n",
    "    resp_df=resp_df.dropna().reset_index(drop=True)\n",
    "    \n",
    "    # Merge both data on Time (sec) & Infant column\n",
    "    combined_data = pd.merge(ecg_df, resp_df, how='inner', on = ['Time (sec)','Infant'])\n",
    "    \n",
    "    # Save the data to respective csv files\n",
    "    combined_data.to_csv('csv_data/infant_'+str(i)+'.csv', index=False)"
   ]
  },
  {
   "cell_type": "code",
   "execution_count": 4,
   "id": "cbd8c5fe",
   "metadata": {},
   "outputs": [
    {
     "name": "stdout",
     "output_type": "stream",
     "text": [
      "The train data will be on Infant [1, 2, 3, 5, 6, 9, 10]\n",
      "The test data will be on Infant [8, 4, 7]\n"
     ]
    }
   ],
   "source": [
    "import random\n",
    "\n",
    "#randomise data \n",
    "\n",
    "test_set = random.sample(range(1, 11), 3)\n",
    "train_set = [i+1 for i in range(10) if i+1 not in test_set]\n",
    "\n",
    "print(\"The train data will be on Infant \"+str(train_set))\n",
    "print(\"The test data will be on Infant \"+str(test_set))"
   ]
  },
  {
   "cell_type": "code",
   "execution_count": 5,
   "id": "6238954d",
   "metadata": {},
   "outputs": [
    {
     "data": {
      "text/html": [
       "<div>\n",
       "<style scoped>\n",
       "    .dataframe tbody tr th:only-of-type {\n",
       "        vertical-align: middle;\n",
       "    }\n",
       "\n",
       "    .dataframe tbody tr th {\n",
       "        vertical-align: top;\n",
       "    }\n",
       "\n",
       "    .dataframe thead th {\n",
       "        text-align: right;\n",
       "    }\n",
       "</style>\n",
       "<table border=\"1\" class=\"dataframe\">\n",
       "  <thead>\n",
       "    <tr style=\"text-align: right;\">\n",
       "      <th></th>\n",
       "      <th>Infant</th>\n",
       "      <th>Heart Rate</th>\n",
       "      <th>Time (sec)</th>\n",
       "      <th>Respiratory Rate</th>\n",
       "    </tr>\n",
       "  </thead>\n",
       "  <tbody>\n",
       "    <tr>\n",
       "      <th>0</th>\n",
       "      <td>10</td>\n",
       "      <td>159.57446</td>\n",
       "      <td>57.56</td>\n",
       "      <td>157.89473</td>\n",
       "    </tr>\n",
       "    <tr>\n",
       "      <th>1</th>\n",
       "      <td>10</td>\n",
       "      <td>159.57446</td>\n",
       "      <td>57.58</td>\n",
       "      <td>157.89473</td>\n",
       "    </tr>\n",
       "    <tr>\n",
       "      <th>2</th>\n",
       "      <td>10</td>\n",
       "      <td>159.57446</td>\n",
       "      <td>57.60</td>\n",
       "      <td>157.89473</td>\n",
       "    </tr>\n",
       "    <tr>\n",
       "      <th>3</th>\n",
       "      <td>10</td>\n",
       "      <td>159.57446</td>\n",
       "      <td>57.62</td>\n",
       "      <td>157.89473</td>\n",
       "    </tr>\n",
       "    <tr>\n",
       "      <th>4</th>\n",
       "      <td>10</td>\n",
       "      <td>159.57446</td>\n",
       "      <td>57.64</td>\n",
       "      <td>157.89473</td>\n",
       "    </tr>\n",
       "    <tr>\n",
       "      <th>5</th>\n",
       "      <td>10</td>\n",
       "      <td>159.57446</td>\n",
       "      <td>57.66</td>\n",
       "      <td>157.89473</td>\n",
       "    </tr>\n",
       "    <tr>\n",
       "      <th>6</th>\n",
       "      <td>10</td>\n",
       "      <td>159.57446</td>\n",
       "      <td>57.68</td>\n",
       "      <td>157.89473</td>\n",
       "    </tr>\n",
       "    <tr>\n",
       "      <th>7</th>\n",
       "      <td>10</td>\n",
       "      <td>159.57446</td>\n",
       "      <td>57.70</td>\n",
       "      <td>157.89473</td>\n",
       "    </tr>\n",
       "    <tr>\n",
       "      <th>8</th>\n",
       "      <td>10</td>\n",
       "      <td>159.57446</td>\n",
       "      <td>57.72</td>\n",
       "      <td>157.89473</td>\n",
       "    </tr>\n",
       "    <tr>\n",
       "      <th>9</th>\n",
       "      <td>10</td>\n",
       "      <td>159.57446</td>\n",
       "      <td>57.74</td>\n",
       "      <td>157.89473</td>\n",
       "    </tr>\n",
       "    <tr>\n",
       "      <th>10</th>\n",
       "      <td>10</td>\n",
       "      <td>159.57446</td>\n",
       "      <td>57.76</td>\n",
       "      <td>157.89473</td>\n",
       "    </tr>\n",
       "    <tr>\n",
       "      <th>11</th>\n",
       "      <td>10</td>\n",
       "      <td>159.57446</td>\n",
       "      <td>57.78</td>\n",
       "      <td>157.89473</td>\n",
       "    </tr>\n",
       "    <tr>\n",
       "      <th>12</th>\n",
       "      <td>10</td>\n",
       "      <td>159.57446</td>\n",
       "      <td>57.80</td>\n",
       "      <td>157.89473</td>\n",
       "    </tr>\n",
       "    <tr>\n",
       "      <th>13</th>\n",
       "      <td>10</td>\n",
       "      <td>159.57446</td>\n",
       "      <td>57.82</td>\n",
       "      <td>157.89473</td>\n",
       "    </tr>\n",
       "    <tr>\n",
       "      <th>14</th>\n",
       "      <td>10</td>\n",
       "      <td>159.57446</td>\n",
       "      <td>57.84</td>\n",
       "      <td>157.89473</td>\n",
       "    </tr>\n",
       "    <tr>\n",
       "      <th>15</th>\n",
       "      <td>10</td>\n",
       "      <td>159.57446</td>\n",
       "      <td>57.86</td>\n",
       "      <td>157.89473</td>\n",
       "    </tr>\n",
       "    <tr>\n",
       "      <th>16</th>\n",
       "      <td>10</td>\n",
       "      <td>159.57446</td>\n",
       "      <td>57.88</td>\n",
       "      <td>157.89473</td>\n",
       "    </tr>\n",
       "    <tr>\n",
       "      <th>17</th>\n",
       "      <td>10</td>\n",
       "      <td>159.57446</td>\n",
       "      <td>57.90</td>\n",
       "      <td>157.89473</td>\n",
       "    </tr>\n",
       "    <tr>\n",
       "      <th>18</th>\n",
       "      <td>10</td>\n",
       "      <td>159.57446</td>\n",
       "      <td>57.92</td>\n",
       "      <td>157.89473</td>\n",
       "    </tr>\n",
       "    <tr>\n",
       "      <th>19</th>\n",
       "      <td>10</td>\n",
       "      <td>157.06807</td>\n",
       "      <td>57.94</td>\n",
       "      <td>157.89473</td>\n",
       "    </tr>\n",
       "    <tr>\n",
       "      <th>20</th>\n",
       "      <td>10</td>\n",
       "      <td>157.06807</td>\n",
       "      <td>57.96</td>\n",
       "      <td>157.89473</td>\n",
       "    </tr>\n",
       "    <tr>\n",
       "      <th>21</th>\n",
       "      <td>10</td>\n",
       "      <td>157.06807</td>\n",
       "      <td>57.98</td>\n",
       "      <td>157.89473</td>\n",
       "    </tr>\n",
       "    <tr>\n",
       "      <th>22</th>\n",
       "      <td>10</td>\n",
       "      <td>157.06807</td>\n",
       "      <td>58.00</td>\n",
       "      <td>157.89473</td>\n",
       "    </tr>\n",
       "    <tr>\n",
       "      <th>23</th>\n",
       "      <td>10</td>\n",
       "      <td>157.06807</td>\n",
       "      <td>58.02</td>\n",
       "      <td>157.89473</td>\n",
       "    </tr>\n",
       "    <tr>\n",
       "      <th>24</th>\n",
       "      <td>10</td>\n",
       "      <td>157.06807</td>\n",
       "      <td>58.04</td>\n",
       "      <td>157.89473</td>\n",
       "    </tr>\n",
       "    <tr>\n",
       "      <th>25</th>\n",
       "      <td>10</td>\n",
       "      <td>157.06807</td>\n",
       "      <td>58.06</td>\n",
       "      <td>157.89473</td>\n",
       "    </tr>\n",
       "  </tbody>\n",
       "</table>\n",
       "</div>"
      ],
      "text/plain": [
       "    Infant  Heart Rate  Time (sec)  Respiratory Rate\n",
       "0       10   159.57446       57.56         157.89473\n",
       "1       10   159.57446       57.58         157.89473\n",
       "2       10   159.57446       57.60         157.89473\n",
       "3       10   159.57446       57.62         157.89473\n",
       "4       10   159.57446       57.64         157.89473\n",
       "5       10   159.57446       57.66         157.89473\n",
       "6       10   159.57446       57.68         157.89473\n",
       "7       10   159.57446       57.70         157.89473\n",
       "8       10   159.57446       57.72         157.89473\n",
       "9       10   159.57446       57.74         157.89473\n",
       "10      10   159.57446       57.76         157.89473\n",
       "11      10   159.57446       57.78         157.89473\n",
       "12      10   159.57446       57.80         157.89473\n",
       "13      10   159.57446       57.82         157.89473\n",
       "14      10   159.57446       57.84         157.89473\n",
       "15      10   159.57446       57.86         157.89473\n",
       "16      10   159.57446       57.88         157.89473\n",
       "17      10   159.57446       57.90         157.89473\n",
       "18      10   159.57446       57.92         157.89473\n",
       "19      10   157.06807       57.94         157.89473\n",
       "20      10   157.06807       57.96         157.89473\n",
       "21      10   157.06807       57.98         157.89473\n",
       "22      10   157.06807       58.00         157.89473\n",
       "23      10   157.06807       58.02         157.89473\n",
       "24      10   157.06807       58.04         157.89473\n",
       "25      10   157.06807       58.06         157.89473"
      ]
     },
     "execution_count": 5,
     "metadata": {},
     "output_type": "execute_result"
    }
   ],
   "source": [
    "df = pd.read_csv(r\"csv_data/infant_\"+str(i)+\".csv\")\n",
    "df[0:26]"
   ]
  },
  {
   "cell_type": "code",
   "execution_count": 6,
   "id": "fca3596c",
   "metadata": {},
   "outputs": [],
   "source": [
    "min_heart_rate = 20\n",
    "max_heart_rate = 250\n",
    "min_resp_rate = 20\n",
    "max_resp_rate = 200"
   ]
  },
  {
   "cell_type": "code",
   "execution_count": 7,
   "id": "d0e68619",
   "metadata": {},
   "outputs": [
    {
     "name": "stderr",
     "output_type": "stream",
     "text": [
      "  0%|                                                     | 0/7 [00:00<?, ?it/s]/var/folders/dn/6v2bckrd4vz6nlx3g5ky1cf80000gp/T/ipykernel_11047/1866669700.py:15: FutureWarning: The frame.append method is deprecated and will be removed from pandas in a future version. Use pandas.concat instead.\n",
      "  train_df = train_df.append(df,ignore_index=True)\n",
      " 14%|██████▍                                      | 1/7 [00:11<01:07, 11.30s/it]/var/folders/dn/6v2bckrd4vz6nlx3g5ky1cf80000gp/T/ipykernel_11047/1866669700.py:15: FutureWarning: The frame.append method is deprecated and will be removed from pandas in a future version. Use pandas.concat instead.\n",
      "  train_df = train_df.append(df,ignore_index=True)\n",
      " 29%|████████████▊                                | 2/7 [00:13<00:28,  5.67s/it]/var/folders/dn/6v2bckrd4vz6nlx3g5ky1cf80000gp/T/ipykernel_11047/1866669700.py:15: FutureWarning: The frame.append method is deprecated and will be removed from pandas in a future version. Use pandas.concat instead.\n",
      "  train_df = train_df.append(df,ignore_index=True)\n",
      " 43%|███████████████████▎                         | 3/7 [00:14<00:15,  3.84s/it]/var/folders/dn/6v2bckrd4vz6nlx3g5ky1cf80000gp/T/ipykernel_11047/1866669700.py:15: FutureWarning: The frame.append method is deprecated and will be removed from pandas in a future version. Use pandas.concat instead.\n",
      "  train_df = train_df.append(df,ignore_index=True)\n",
      " 57%|█████████████████████████▋                   | 4/7 [00:16<00:09,  3.05s/it]/var/folders/dn/6v2bckrd4vz6nlx3g5ky1cf80000gp/T/ipykernel_11047/1866669700.py:15: FutureWarning: The frame.append method is deprecated and will be removed from pandas in a future version. Use pandas.concat instead.\n",
      "  train_df = train_df.append(df,ignore_index=True)\n",
      " 71%|████████████████████████████████▏            | 5/7 [00:18<00:05,  2.63s/it]/var/folders/dn/6v2bckrd4vz6nlx3g5ky1cf80000gp/T/ipykernel_11047/1866669700.py:15: FutureWarning: The frame.append method is deprecated and will be removed from pandas in a future version. Use pandas.concat instead.\n",
      "  train_df = train_df.append(df,ignore_index=True)\n",
      " 86%|██████████████████████████████████████▌      | 6/7 [00:21<00:02,  2.68s/it]/var/folders/dn/6v2bckrd4vz6nlx3g5ky1cf80000gp/T/ipykernel_11047/1866669700.py:15: FutureWarning: The frame.append method is deprecated and will be removed from pandas in a future version. Use pandas.concat instead.\n",
      "  train_df = train_df.append(df,ignore_index=True)\n",
      "100%|█████████████████████████████████████████████| 7/7 [00:23<00:00,  3.29s/it]\n"
     ]
    }
   ],
   "source": [
    "train_df = pd.DataFrame()\n",
    "correlation_score = []\n",
    "\n",
    "\n",
    "for i in tqdm(train_set):\n",
    "    df = pd.read_csv(r\"csv_data/infant_\"+str(i)+\".csv\")\n",
    "    df = df.drop_duplicates(subset=['Heart Rate', 'Respiratory Rate'], keep='first')\n",
    "    \n",
    "    # Remove outliers from the df \n",
    "    df = df[df[\"Heart Rate\"] >min_heart_rate]\n",
    "    df = df[df[\"Heart Rate\"] <max_heart_rate]\n",
    "    df = df[df[\"Respiratory Rate\"] >min_resp_rate]\n",
    "    df = df[df[\"Respiratory Rate\"] <max_resp_rate]\n",
    "\n",
    "    train_df = train_df.append(df,ignore_index=True)"
   ]
  },
  {
   "cell_type": "code",
   "execution_count": 8,
   "id": "ee5bb638",
   "metadata": {},
   "outputs": [],
   "source": [
    "train_df.to_csv('csv_data/train_data.csv', index=False)"
   ]
  },
  {
   "cell_type": "code",
   "execution_count": 10,
   "id": "e0f026ae",
   "metadata": {},
   "outputs": [
    {
     "name": "stderr",
     "output_type": "stream",
     "text": [
      "  0%|                                                     | 0/3 [00:00<?, ?it/s]/var/folders/dn/6v2bckrd4vz6nlx3g5ky1cf80000gp/T/ipykernel_11047/4144267565.py:13: FutureWarning: The frame.append method is deprecated and will be removed from pandas in a future version. Use pandas.concat instead.\n",
      "  test_df = test_df.append(df,ignore_index=True)\n",
      " 33%|███████████████                              | 1/3 [00:00<00:01,  1.03it/s]/var/folders/dn/6v2bckrd4vz6nlx3g5ky1cf80000gp/T/ipykernel_11047/4144267565.py:13: FutureWarning: The frame.append method is deprecated and will be removed from pandas in a future version. Use pandas.concat instead.\n",
      "  test_df = test_df.append(df,ignore_index=True)\n",
      " 67%|██████████████████████████████               | 2/3 [00:02<00:01,  1.47s/it]/var/folders/dn/6v2bckrd4vz6nlx3g5ky1cf80000gp/T/ipykernel_11047/4144267565.py:13: FutureWarning: The frame.append method is deprecated and will be removed from pandas in a future version. Use pandas.concat instead.\n",
      "  test_df = test_df.append(df,ignore_index=True)\n",
      "100%|█████████████████████████████████████████████| 3/3 [00:03<00:00,  1.19s/it]\n"
     ]
    }
   ],
   "source": [
    "test_df = pd.DataFrame()\n",
    "\n",
    "for j in tqdm(test_set):\n",
    "    df = pd.read_csv(r\"csv_data/infant_\"+str(j)+\".csv\")\n",
    "    df = df.drop_duplicates(subset=['Heart Rate', 'Respiratory Rate'], keep='first')\n",
    "\n",
    "    # remove outliers\n",
    "    df = df[df[\"Heart Rate\"] >min_heart_rate]\n",
    "    df = df[df[\"Heart Rate\"] <max_heart_rate]\n",
    "    df = df[df[\"Respiratory Rate\"] >min_resp_rate]\n",
    "    df = df[df[\"Respiratory Rate\"] <max_resp_rate]\n",
    "    \n",
    "    test_df = test_df.append(df,ignore_index=True)"
   ]
  },
  {
   "cell_type": "code",
   "execution_count": 11,
   "id": "a13e28fb",
   "metadata": {},
   "outputs": [],
   "source": [
    "test_df.to_csv('csv_data/test_data.csv', index=False)"
   ]
  },
  {
   "cell_type": "code",
   "execution_count": null,
   "id": "623fcd54",
   "metadata": {},
   "outputs": [],
   "source": []
  }
 ],
 "metadata": {
  "kernelspec": {
   "display_name": "Python 3 (ipykernel)",
   "language": "python",
   "name": "python3"
  },
  "language_info": {
   "codemirror_mode": {
    "name": "ipython",
    "version": 3
   },
   "file_extension": ".py",
   "mimetype": "text/x-python",
   "name": "python",
   "nbconvert_exporter": "python",
   "pygments_lexer": "ipython3",
   "version": "3.9.13"
  }
 },
 "nbformat": 4,
 "nbformat_minor": 5
}
