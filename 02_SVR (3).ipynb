{
 "cells": [
  {
   "cell_type": "code",
   "execution_count": 1,
   "id": "0f92a5c2",
   "metadata": {},
   "outputs": [],
   "source": [
    "import pandas as pd\n",
    "import numpy as np\n",
    "from sklearn.model_selection import train_test_split\n",
    "from sklearn.svm import SVR\n",
    "from sklearn.metrics import mean_squared_error\n",
    "from pprint import pprint\n",
    "from sklearn.model_selection import GridSearchCV\n",
    "from sklearn.metrics import mean_squared_error,mean_absolute_error\n",
    "from sklearn import preprocessing\n",
    "import pickle\n",
    "import warnings\n",
    "import matplotlib.pyplot as plt\n",
    "warnings.filterwarnings(\"ignore\")"
   ]
  },
  {
   "cell_type": "code",
   "execution_count": 2,
   "id": "82fcc793",
   "metadata": {},
   "outputs": [
    {
     "data": {
      "text/html": [
       "<div>\n",
       "<style scoped>\n",
       "    .dataframe tbody tr th:only-of-type {\n",
       "        vertical-align: middle;\n",
       "    }\n",
       "\n",
       "    .dataframe tbody tr th {\n",
       "        vertical-align: top;\n",
       "    }\n",
       "\n",
       "    .dataframe thead th {\n",
       "        text-align: right;\n",
       "    }\n",
       "</style>\n",
       "<table border=\"1\" class=\"dataframe\">\n",
       "  <thead>\n",
       "    <tr style=\"text-align: right;\">\n",
       "      <th></th>\n",
       "      <th>Infant</th>\n",
       "      <th>Heart Rate</th>\n",
       "      <th>Time (sec)</th>\n",
       "      <th>Respiratory Rate</th>\n",
       "    </tr>\n",
       "  </thead>\n",
       "  <tbody>\n",
       "    <tr>\n",
       "      <th>0</th>\n",
       "      <td>1</td>\n",
       "      <td>164.84</td>\n",
       "      <td>184.32</td>\n",
       "      <td>127.66</td>\n",
       "    </tr>\n",
       "    <tr>\n",
       "      <th>1</th>\n",
       "      <td>1</td>\n",
       "      <td>163.04</td>\n",
       "      <td>187.29</td>\n",
       "      <td>21.16</td>\n",
       "    </tr>\n",
       "    <tr>\n",
       "      <th>2</th>\n",
       "      <td>1</td>\n",
       "      <td>163.04</td>\n",
       "      <td>188.78</td>\n",
       "      <td>46.73</td>\n",
       "    </tr>\n",
       "    <tr>\n",
       "      <th>3</th>\n",
       "      <td>1</td>\n",
       "      <td>164.84</td>\n",
       "      <td>188.89</td>\n",
       "      <td>46.73</td>\n",
       "    </tr>\n",
       "    <tr>\n",
       "      <th>4</th>\n",
       "      <td>1</td>\n",
       "      <td>163.04</td>\n",
       "      <td>189.46</td>\n",
       "      <td>88.24</td>\n",
       "    </tr>\n",
       "    <tr>\n",
       "      <th>...</th>\n",
       "      <td>...</td>\n",
       "      <td>...</td>\n",
       "      <td>...</td>\n",
       "      <td>...</td>\n",
       "    </tr>\n",
       "    <tr>\n",
       "      <th>118672</th>\n",
       "      <td>10</td>\n",
       "      <td>106.01</td>\n",
       "      <td>158928.38</td>\n",
       "      <td>93.75</td>\n",
       "    </tr>\n",
       "    <tr>\n",
       "      <th>118673</th>\n",
       "      <td>10</td>\n",
       "      <td>102.04</td>\n",
       "      <td>160485.40</td>\n",
       "      <td>93.75</td>\n",
       "    </tr>\n",
       "    <tr>\n",
       "      <th>118674</th>\n",
       "      <td>10</td>\n",
       "      <td>104.17</td>\n",
       "      <td>161948.56</td>\n",
       "      <td>93.75</td>\n",
       "    </tr>\n",
       "    <tr>\n",
       "      <th>118675</th>\n",
       "      <td>10</td>\n",
       "      <td>245.90</td>\n",
       "      <td>162241.24</td>\n",
       "      <td>93.75</td>\n",
       "    </tr>\n",
       "    <tr>\n",
       "      <th>118676</th>\n",
       "      <td>10</td>\n",
       "      <td>107.53</td>\n",
       "      <td>162422.26</td>\n",
       "      <td>93.75</td>\n",
       "    </tr>\n",
       "  </tbody>\n",
       "</table>\n",
       "<p>118677 rows × 4 columns</p>\n",
       "</div>"
      ],
      "text/plain": [
       "        Infant  Heart Rate  Time (sec)  Respiratory Rate\n",
       "0            1      164.84      184.32            127.66\n",
       "1            1      163.04      187.29             21.16\n",
       "2            1      163.04      188.78             46.73\n",
       "3            1      164.84      188.89             46.73\n",
       "4            1      163.04      189.46             88.24\n",
       "...        ...         ...         ...               ...\n",
       "118672      10      106.01   158928.38             93.75\n",
       "118673      10      102.04   160485.40             93.75\n",
       "118674      10      104.17   161948.56             93.75\n",
       "118675      10      245.90   162241.24             93.75\n",
       "118676      10      107.53   162422.26             93.75\n",
       "\n",
       "[118677 rows x 4 columns]"
      ]
     },
     "execution_count": 2,
     "metadata": {},
     "output_type": "execute_result"
    }
   ],
   "source": [
    "train_data = pd.read_csv('csv_data/train_data.csv')\n",
    "train_data = train_data.round(2)\n",
    "train_data"
   ]
  },
  {
   "cell_type": "code",
   "execution_count": 3,
   "id": "28cb6335",
   "metadata": {},
   "outputs": [],
   "source": [
    "X = train_data[['Time (sec)','Respiratory Rate']] \n",
    "y = train_data['Heart Rate']  "
   ]
  },
  {
   "cell_type": "code",
   "execution_count": 4,
   "id": "a1580bf1",
   "metadata": {},
   "outputs": [],
   "source": [
    "sc = preprocessing.StandardScaler()\n",
    "X = sc.fit_transform(X)\n",
    "y =  sc.fit_transform(y.values.reshape(-1, 1))"
   ]
  },
  {
   "cell_type": "code",
   "execution_count": 5,
   "id": "f2afffaa",
   "metadata": {},
   "outputs": [],
   "source": [
    "X_train, X_test, y_train, y_test = train_test_split(X, y, test_size = 0.2, random_state = 42)"
   ]
  },
  {
   "cell_type": "code",
   "execution_count": 6,
   "id": "879d5a42",
   "metadata": {},
   "outputs": [],
   "source": [
    "import random\n",
    "\n",
    "# Select a subset of the data\n",
    "subset_index = random.sample(range(0, len(X_train)), 1000)\n",
    "X_train_subset = X_train[subset_index, :]\n",
    "y_train_subset = y_train[subset_index]\n"
   ]
  },
  {
   "cell_type": "code",
   "execution_count": 7,
   "id": "5a9a37d5",
   "metadata": {},
   "outputs": [],
   "source": [
    "from sklearn.svm import SVR\n",
    "#create an SVR object\n",
    "svr = SVR()"
   ]
  },
  {
   "cell_type": "code",
   "execution_count": 8,
   "id": "7c60d3e3",
   "metadata": {},
   "outputs": [
    {
     "name": "stdout",
     "output_type": "stream",
     "text": [
      "{'C': 0.1, 'gamma': 1}\n"
     ]
    }
   ],
   "source": [
    "from sklearn.model_selection import GridSearchCV\n",
    "\n",
    "# Define the parameter grid\n",
    "param_grid = {'C': [0.1, 1, 10], 'gamma': [0.1, 1, 10]}\n",
    "\n",
    "# Create a GridSearchCV object\n",
    "grid_search = GridSearchCV(svr, param_grid, cv=5)\n",
    "\n",
    "# Train the model using the subset of the data\n",
    "grid_search.fit(X_train_subset, y_train_subset)\n",
    "\n",
    "# Print the best parameters\n",
    "print(grid_search.best_params_)"
   ]
  },
  {
   "cell_type": "code",
   "execution_count": 10,
   "id": "f26576d4",
   "metadata": {},
   "outputs": [
    {
     "data": {
      "text/plain": [
       "SVR(C=0.1, gamma=1)"
      ]
     },
     "execution_count": 10,
     "metadata": {},
     "output_type": "execute_result"
    }
   ],
   "source": [
    "# Get the best parameters from the grid search\n",
    "best_params = grid_search.best_params_\n",
    "\n",
    "# Create an SVR model using the best parameters\n",
    "svr_optimized = SVR(C=best_params['C'], gamma=best_params['gamma'])\n",
    "\n",
    "# Train the optimized SVR model\n",
    "svr_optimized.fit(X_train, y_train)"
   ]
  },
  {
   "cell_type": "code",
   "execution_count": 13,
   "id": "c5646773",
   "metadata": {},
   "outputs": [],
   "source": [
    "y_pred = svr_optimized.predict(X_test)"
   ]
  },
  {
   "cell_type": "code",
   "execution_count": 14,
   "id": "53d72222",
   "metadata": {},
   "outputs": [
    {
     "name": "stdout",
     "output_type": "stream",
     "text": [
      "R-squared value:  0.01920184888212617\n",
      "Mean Squared Error:  0.9840853401713959\n",
      "Root Mean Squared Error:  0.992010756076463\n"
     ]
    }
   ],
   "source": [
    "from sklearn.metrics import r2_score, mean_squared_error, mean_absolute_error, mean_squared_log_error, median_absolute_error\n",
    "\n",
    "# calculate R-squared\n",
    "r2 = r2_score(y_test, y_pred)\n",
    "\n",
    "# calculate MSE\n",
    "mse = mean_squared_error(y_test, y_pred)\n",
    "\n",
    "# calculate RMSE\n",
    "rmse = np.sqrt(mse)\n",
    "\n",
    "#print the results\n",
    "print(\"R-squared value: \", r2)\n",
    "print(\"Mean Squared Error: \", mse)\n",
    "print(\"Root Mean Squared Error: \", rmse)"
   ]
  },
  {
   "cell_type": "code",
   "execution_count": 16,
   "id": "e6db0684",
   "metadata": {},
   "outputs": [],
   "source": [
    "# Save the model\n",
    "filename = 'saved_models/svr.sav'\n",
    "pickle.dump(svr_optimized, open(filename, 'wb'))"
   ]
  }
 ],
 "metadata": {
  "kernelspec": {
   "display_name": "Python 3 (ipykernel)",
   "language": "python",
   "name": "python3"
  },
  "language_info": {
   "codemirror_mode": {
    "name": "ipython",
    "version": 3
   },
   "file_extension": ".py",
   "mimetype": "text/x-python",
   "name": "python",
   "nbconvert_exporter": "python",
   "pygments_lexer": "ipython3",
   "version": "3.9.13"
  }
 },
 "nbformat": 4,
 "nbformat_minor": 5
}
